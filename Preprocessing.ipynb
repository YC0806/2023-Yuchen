{
 "cells": [
  {
   "cell_type": "code",
   "execution_count": 1,
   "metadata": {},
   "outputs": [],
   "source": [
    "import re\n",
    "import os\n",
    "import json\n",
    "from Preprocess.Log2Graph import *"
   ]
  },
  {
   "cell_type": "code",
   "execution_count": 9,
   "metadata": {},
   "outputs": [],
   "source": [
    "data_dir_0 = 'Data'\n",
    "processed_dir_0 = 'ProcessedData'\n",
    "data_dir_1 = '2021-09-29-RaspVM-experiment-64run-env1'"
   ]
  },
  {
   "cell_type": "markdown",
   "metadata": {},
   "source": [
    "# Log2graph"
   ]
  },
  {
   "cell_type": "code",
   "execution_count": 10,
   "metadata": {},
   "outputs": [
    {
     "name": "stdout",
     "output_type": "stream",
     "text": [
      "Not Found Audit Record! Data\\2021-09-29-RaspVM-experiment-64run-env1\\2021-09-29T011242\n"
     ]
    }
   ],
   "source": [
    "os.mkdir(os.path.join(processed_dir_0, data_dir_1))\n",
    "\n",
    "for data_dir_2 in os.listdir(os.path.join(data_dir_0, data_dir_1)):\n",
    "    curr_dir = os.path.join(data_dir_1, data_dir_2)\n",
    "    os.mkdir(os.path.join(processed_dir_0, curr_dir))\n",
    "\n",
    "    # Find audit log file\n",
    "    r_audit = re.compile(\".*_audit.log\")\n",
    "    audit_logs = list(filter(r_audit.match, os.listdir(os.path.join(data_dir_0, curr_dir))))\n",
    "    # print(len(audit_logs), audit_logs)\n",
    "    if len(audit_logs) > 1:\n",
    "        print(f\"Multiple Audit Log Files! {os.path.join(data_dir_0, curr_dir)}\")\n",
    "        raise\n",
    "    if len(audit_logs) == 0:\n",
    "        print(f\"Not Found Audit Log File! {os.path.join(data_dir_0, curr_dir)}\")\n",
    "        raise\n",
    "    \n",
    "    # print(os.path.join(data_dir_0, curr_dir, audit_logs[0]), os.path.join(processed_dir_0,curr_dir, os.path.splitext(audit_logs[0])[0]))\n",
    "    data_dict = log2graph(\n",
    "        input_path=os.path.join(data_dir_0, curr_dir, audit_logs[0]),\n",
    "        interval=60,\n",
    "        overlap=30,\n",
    "        )\n",
    "\n",
    "    if data_dict is None:\n",
    "        print(f\"Not Found Audit Record! {os.path.join(data_dir_0, curr_dir)}\")\n",
    "        continue\n",
    "    \n",
    "    output_path = os.path.join(processed_dir_0,curr_dir, os.path.splitext(audit_logs[0])[0])\n",
    "    np.savez(\n",
    "        f'{output_path}.npz',\n",
    "        node_attr=data_dict['node_attr'],\n",
    "        node_flag=data_dict['node_flag'],\n",
    "        node_index=data_dict['node_index'],\n",
    "        edge_flag=data_dict['edge_flag'],\n",
    "        edge_attr=data_dict['edge_attr'],\n",
    "        edge_index=data_dict['edge_index'],\n",
    "        timestamp=data_dict['timestamp'],\n",
    "        )\n"
   ]
  },
  {
   "cell_type": "code",
   "execution_count": null,
   "metadata": {},
   "outputs": [],
   "source": [
    "raise"
   ]
  },
  {
   "cell_type": "code",
   "execution_count": 11,
   "metadata": {},
   "outputs": [],
   "source": [
    "for data_dir_1 in os.listdir(data_dir_0):\n",
    "    annotated_dict = {}\n",
    "    for data_dir_2 in os.listdir(os.path.join(data_dir_0, data_dir_1)):\n",
    "        curr_dir = os.path.join(data_dir_1, data_dir_2)\n",
    "        # Find annotated file\n",
    "        if \"annotated.txt\" not in os.listdir(os.path.join(data_dir_0, curr_dir)):\n",
    "            print(\"Not Found Annotated File!\")\n",
    "            raise\n",
    "        \n",
    "        with open(os.path.join(data_dir_0, curr_dir, \"annotated.txt\")) as f:\n",
    "            annotated_list = f.readlines()\n",
    "        # print(os.path.join(data_dir_0, curr_dir, \"annotated.txt\"))\n",
    "\n",
    "        for text in annotated_list:\n",
    "            _type = re.search(r'\"annotationName\":\\s\"([^,]*)\",', text).group(1)\n",
    "            _timestamp = re.search(r'\"annotationTime\":\\s([^,]*),', text).group(1)\n",
    "            _date = re.search(r'\"annotationDate\":\\s([^,]*)}', text).group(1)\n",
    "\n",
    "            if _type in [\"dos\", \"privesc\"]:\n",
    "                annotated_dict.update({data_dir_2:(_type,_timestamp)})\n",
    "                # print(annotated_dict)\n",
    "    with open(os.path.join(processed_dir_0,data_dir_1,'annotated.json'),\"w\") as f:\n",
    "        json.dump(annotated_dict,f)"
   ]
  },
  {
   "cell_type": "markdown",
   "metadata": {},
   "source": [
    "# Further Preprocess"
   ]
  },
  {
   "cell_type": "code",
   "execution_count": null,
   "metadata": {},
   "outputs": [],
   "source": [
    "import numpy as np\n",
    "import matplotlib.pyplot as plt"
   ]
  },
  {
   "cell_type": "code",
   "execution_count": null,
   "metadata": {},
   "outputs": [
    {
     "name": "stdout",
     "output_type": "stream",
     "text": [
      "21.0\n",
      "27.577301161751564\n"
     ]
    }
   ],
   "source": [
    "# Get Node Num Threshold\n",
    "total_node_num = []\n",
    "for data_dir_2 in os.listdir(os.path.join(processed_dir_0, data_dir_1)):\n",
    "    if data_dir_2 == 'annotated.json':\n",
    "        continue\n",
    "    curr_dir = os.path.join(data_dir_1, data_dir_2)\n",
    "    r_audit = re.compile(\".*_audit.npz\")\n",
    "    audit_datafile = list(filter(r_audit.match, os.listdir(os.path.join(processed_dir_0, curr_dir))))\n",
    "    if len(audit_datafile) == 0:\n",
    "        continue\n",
    "    # print(data_dir_2, audit_datafile)\n",
    "    _dataset = np.load(os.path.join(processed_dir_0, curr_dir, audit_datafile[0]))\n",
    "\n",
    "    edge_flag = _dataset['edge_flag']\n",
    "    edge_index = _dataset['edge_index']\n",
    "    edge_attr = _dataset['edge_attr']\n",
    "    node_flag = _dataset['node_flag']\n",
    "    node_index = _dataset['node_index']\n",
    "    node_attr = _dataset['node_attr']\n",
    "    ts_list = _dataset['timestamp']\n",
    "    \n",
    "    node_num_list = [len(_index) for _index in np.split(node_index, node_flag)]\n",
    "    total_node_num += node_num_list\n",
    "    # print(np.median(node_num_list), node_num_list)    \n",
    "print(np.median(total_node_num))\n",
    "print(np.mean(total_node_num))"
   ]
  },
  {
   "cell_type": "code",
   "execution_count": null,
   "metadata": {},
   "outputs": [
    {
     "name": "stdout",
     "output_type": "stream",
     "text": [
      "18.0\n",
      "[4, 4, 4, 4, 4, 4, 4, 4, 4, 5, 8, 153, 18, 21, 19, 21, 18, 22, 18, 21, 18, 28, 18, 21, 19, 21, 18, 22, 18, 21, 18, 61, 26, 118, 19, 22, 18, 23, 18, 22, 18, 70, 0]\n"
     ]
    }
   ],
   "source": [
    "data_dir_2 = '2021-09-27T174658'\n",
    "curr_dir = os.path.join(data_dir_1, data_dir_2)\n",
    "r_audit = re.compile(\".*_audit.npz\")\n",
    "audit_datafile = list(filter(r_audit.match, os.listdir(os.path.join(processed_dir_0, curr_dir))))\n",
    "_dataset = np.load(os.path.join(processed_dir_0, curr_dir, audit_datafile[0]))\n",
    "\n",
    "edge_flag = _dataset['edge_flag']\n",
    "edge_index = _dataset['edge_index']\n",
    "edge_attr = _dataset['edge_attr']\n",
    "node_flag = _dataset['node_flag']\n",
    "node_index = _dataset['node_index']\n",
    "node_attr = _dataset['node_attr']\n",
    "ts_list = _dataset['timestamp']\n",
    "\n",
    "node_attr_split = np.split(node_attr[node_index],node_flag)\n",
    "# node_attr_split[0]\n",
    "\n",
    "# print(ts_list)\n",
    "a = [len(_index) for _index in np.split(node_index, node_flag)]\n",
    "print(np.median(a))\n",
    "print(a)"
   ]
  },
  {
   "cell_type": "code",
   "execution_count": null,
   "metadata": {},
   "outputs": [
    {
     "data": {
      "text/plain": [
       "(array([ 63., 200.,  20.,   0., 680., 122., 107., 667.,  30.,  46.,  18.,\n",
       "         12.,   8.,   6.,   7.,  10.,   9.,  39.,   8.,  17.,  13.,   6.,\n",
       "         31.,  15.,   4.,   0.,   1.,   1.,   0.,   1.,   0.,   1.,  10.,\n",
       "          8.,   6.,   8.,   4.,   0.,   1.,   0.,   2.,   0.,   5.,   7.,\n",
       "          3.,   2.,   5.,   1.,   5.,   5.,   4.,   8.,   2.,   3.,   2.,\n",
       "          0.,   0.,   0.,   0.,   0.,   0.,   0.,   0.,   0.,   0.,   0.,\n",
       "          1.,   0.,   0.,   0.,   0.,   0.,   0.,   1.,   0.,   0.,   0.,\n",
       "          0.,   0.,   0.,   0.,   0.,   0.,   0.,   0.,   0.,   0.,   0.,\n",
       "          1.,   0.,   0.,   1.,   0.,   0.,   0.,   0.,   0.,   0.,   0.,\n",
       "          1.]),\n",
       " array([  0.  ,   3.39,   6.78,  10.17,  13.56,  16.95,  20.34,  23.73,\n",
       "         27.12,  30.51,  33.9 ,  37.29,  40.68,  44.07,  47.46,  50.85,\n",
       "         54.24,  57.63,  61.02,  64.41,  67.8 ,  71.19,  74.58,  77.97,\n",
       "         81.36,  84.75,  88.14,  91.53,  94.92,  98.31, 101.7 , 105.09,\n",
       "        108.48, 111.87, 115.26, 118.65, 122.04, 125.43, 128.82, 132.21,\n",
       "        135.6 , 138.99, 142.38, 145.77, 149.16, 152.55, 155.94, 159.33,\n",
       "        162.72, 166.11, 169.5 , 172.89, 176.28, 179.67, 183.06, 186.45,\n",
       "        189.84, 193.23, 196.62, 200.01, 203.4 , 206.79, 210.18, 213.57,\n",
       "        216.96, 220.35, 223.74, 227.13, 230.52, 233.91, 237.3 , 240.69,\n",
       "        244.08, 247.47, 250.86, 254.25, 257.64, 261.03, 264.42, 267.81,\n",
       "        271.2 , 274.59, 277.98, 281.37, 284.76, 288.15, 291.54, 294.93,\n",
       "        298.32, 301.71, 305.1 , 308.49, 311.88, 315.27, 318.66, 322.05,\n",
       "        325.44, 328.83, 332.22, 335.61, 339.  ]),\n",
       " <BarContainer object of 100 artists>)"
      ]
     },
     "execution_count": 31,
     "metadata": {},
     "output_type": "execute_result"
    },
    {
     "data": {
      "image/png": "[encoded data removed]",
      "text/plain": [
       "<Figure size 640x480 with 1 Axes>"
      ]
     },
     "metadata": {},
     "output_type": "display_data"
    }
   ],
   "source": [
    "plt.hist(total_node_num,bins=100)"
   ]
  },
  {
   "cell_type": "code",
   "execution_count": null,
   "metadata": {},
   "outputs": [],
   "source": [
    "curr_dir = os.path.join(data_dir_1, data_dir_2)\n",
    "r_audit = re.compile(\".*_audit.log\")\n",
    "audit_datafile = list(filter(r_audit.match, os.listdir(os.path.join(data_dir_0, curr_dir))))\n",
    "record_list = read_log(os.path.join(data_dir_0, curr_dir, audit_datafile[0]))\n"
   ]
  },
  {
   "cell_type": "code",
   "execution_count": null,
   "metadata": {},
   "outputs": [
    {
     "name": "stdout",
     "output_type": "stream",
     "text": [
      "Data/2021-09-27-RaspVM-experiment-64run-env1/2021-09-27T174658/2021-09-27T180222_audit.log\n"
     ]
    }
   ],
   "source": [
    "print(os.path.join(data_dir_0, curr_dir, audit_datafile[0]))"
   ]
  },
  {
   "cell_type": "code",
   "execution_count": null,
   "metadata": {},
   "outputs": [],
   "source": []
  }
 ],
 "metadata": {
  "kernelspec": {
   "display_name": "Python 3.8.8 ('base')",
   "language": "python",
   "name": "python3"
  },
  "language_info": {
   "codemirror_mode": {
    "name": "ipython",
    "version": 3
   },
   "file_extension": ".py",
   "mimetype": "text/x-python",
   "name": "python",
   "nbconvert_exporter": "python",
   "pygments_lexer": "ipython3",
   "version": "3.8.8"
  },
  "orig_nbformat": 4,
  "vscode": {
   "interpreter": {
    "hash": "ad2bdc8ecc057115af97d19610ffacc2b4e99fae6737bb82f5d7fb13d2f2c186"
   }
  }
 },
 "nbformat": 4,
 "nbformat_minor": 2
}
